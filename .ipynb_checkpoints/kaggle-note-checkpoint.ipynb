{
 "cells": [
  {
   "cell_type": "code",
   "execution_count": 1,
   "metadata": {
    "_cell_guid": "b1076dfc-b9ad-4769-8c92-a6c4dae69d19",
    "_uuid": "8f2839f25d086af736a60e9eeb907d3b93b6e0e5",
    "execution": {
     "iopub.execute_input": "2023-02-22T03:55:13.490621Z",
     "iopub.status.busy": "2023-02-22T03:55:13.490001Z",
     "iopub.status.idle": "2023-02-22T03:55:13.538908Z",
     "shell.execute_reply": "2023-02-22T03:55:13.537923Z",
     "shell.execute_reply.started": "2023-02-22T03:55:13.490503Z"
    }
   },
   "outputs": [
    {
     "name": "stdout",
     "output_type": "stream",
     "text": [
      "/kaggle/input/utils-nmr/utils_nmr.py\n"
     ]
    }
   ],
   "source": [
    "# This Python 3 environment comes with many helpful analytics libraries installed\n",
    "# It is defined by the kaggle/python Docker image: https://github.com/kaggle/docker-python\n",
    "# For example, here's several helpful packages to load\n",
    "\n",
    "import numpy as np # linear algebra\n",
    "import pandas as pd # data processing, CSV file I/O (e.g. pd.read_csv)\n",
    "\n",
    "# Input data files are available in the read-only \"../input/\" directory\n",
    "# For example, running this (by clicking run or pressing Shift+Enter) will list all files under the input directory\n",
    "\n",
    "import os\n",
    "for dirname, _, filenames in os.walk('/kaggle/input'):\n",
    "    for filename in filenames:\n",
    "        print(os.path.join(dirname, filename))\n",
    "\n",
    "# You can write up to 20GB to the current directory (/kaggle/working/) that gets preserved as output when you create a version using \"Save & Run All\" \n",
    "# You can also write temporary files to /kaggle/temp/, but they won't be saved outside of the current session"
   ]
  },
  {
   "cell_type": "code",
   "execution_count": 2,
   "metadata": {
    "execution": {
     "iopub.execute_input": "2023-02-22T03:55:15.579068Z",
     "iopub.status.busy": "2023-02-22T03:55:15.578634Z",
     "iopub.status.idle": "2023-02-22T03:55:28.826552Z",
     "shell.execute_reply": "2023-02-22T03:55:28.825224Z",
     "shell.execute_reply.started": "2023-02-22T03:55:15.579036Z"
    }
   },
   "outputs": [
    {
     "name": "stdout",
     "output_type": "stream",
     "text": [
      "/bin/bash: /opt/conda/lib/libtinfo.so.6: no version information available (required by /bin/bash)\n",
      "Requirement already satisfied: halo in /opt/conda/lib/python3.7/site-packages (0.0.31)\n",
      "Requirement already satisfied: tqdm in /opt/conda/lib/python3.7/site-packages (4.64.1)\n",
      "Requirement already satisfied: pathlib in /opt/conda/lib/python3.7/site-packages (1.0.1)\n",
      "Requirement already satisfied: numerapi in /opt/conda/lib/python3.7/site-packages (2.13.1)\n",
      "Requirement already satisfied: spinners>=0.0.24 in /opt/conda/lib/python3.7/site-packages (from halo) (0.0.24)\n",
      "Requirement already satisfied: six>=1.12.0 in /opt/conda/lib/python3.7/site-packages (from halo) (1.16.0)\n",
      "Requirement already satisfied: log-symbols>=0.0.14 in /opt/conda/lib/python3.7/site-packages (from halo) (0.0.14)\n",
      "Requirement already satisfied: colorama>=0.3.9 in /opt/conda/lib/python3.7/site-packages (from halo) (0.4.6)\n",
      "Requirement already satisfied: termcolor>=1.1.0 in /opt/conda/lib/python3.7/site-packages (from halo) (1.1.0)\n",
      "Requirement already satisfied: pandas>=1.1.0 in /opt/conda/lib/python3.7/site-packages (from numerapi) (1.3.5)\n",
      "Requirement already satisfied: click>=7.0 in /opt/conda/lib/python3.7/site-packages (from numerapi) (8.1.3)\n",
      "Requirement already satisfied: pytz in /opt/conda/lib/python3.7/site-packages (from numerapi) (2022.2.1)\n",
      "Requirement already satisfied: requests in /opt/conda/lib/python3.7/site-packages (from numerapi) (2.28.1)\n",
      "Requirement already satisfied: python-dateutil in /opt/conda/lib/python3.7/site-packages (from numerapi) (2.8.2)\n",
      "Requirement already satisfied: importlib-metadata in /opt/conda/lib/python3.7/site-packages (from click>=7.0->numerapi) (6.0.0)\n",
      "Requirement already satisfied: numpy>=1.17.3 in /opt/conda/lib/python3.7/site-packages (from pandas>=1.1.0->numerapi) (1.21.6)\n",
      "Requirement already satisfied: urllib3<1.27,>=1.21.1 in /opt/conda/lib/python3.7/site-packages (from requests->numerapi) (1.26.11)\n",
      "Requirement already satisfied: idna<4,>=2.5 in /opt/conda/lib/python3.7/site-packages (from requests->numerapi) (3.3)\n",
      "Requirement already satisfied: certifi>=2017.4.17 in /opt/conda/lib/python3.7/site-packages (from requests->numerapi) (2022.12.7)\n",
      "Requirement already satisfied: charset-normalizer<3,>=2 in /opt/conda/lib/python3.7/site-packages (from requests->numerapi) (2.1.1)\n",
      "Requirement already satisfied: zipp>=0.5 in /opt/conda/lib/python3.7/site-packages (from importlib-metadata->click>=7.0->numerapi) (3.8.1)\n",
      "Requirement already satisfied: typing-extensions>=3.6.4 in /opt/conda/lib/python3.7/site-packages (from importlib-metadata->click>=7.0->numerapi) (4.1.1)\n",
      "\u001b[33mWARNING: Running pip as the 'root' user can result in broken permissions and conflicting behaviour with the system package manager. It is recommended to use a virtual environment instead: https://pip.pypa.io/warnings/venv\u001b[0m\u001b[33m\n",
      "\u001b[0m"
     ]
    }
   ],
   "source": [
    "!pip install halo tqdm pathlib numerapi"
   ]
  },
  {
   "cell_type": "code",
   "execution_count": 3,
   "metadata": {
    "execution": {
     "iopub.execute_input": "2023-02-22T03:55:28.830700Z",
     "iopub.status.busy": "2023-02-22T03:55:28.829704Z",
     "iopub.status.idle": "2023-02-22T03:55:29.653633Z",
     "shell.execute_reply": "2023-02-22T03:55:29.652306Z",
     "shell.execute_reply.started": "2023-02-22T03:55:28.830648Z"
    }
   },
   "outputs": [
    {
     "name": "stdout",
     "output_type": "stream",
     "text": [
      "\r"
     ]
    }
   ],
   "source": [
    "from shutil import copyfile\n",
    "\n",
    "# copy our file into the working directory (make sure it has .py suffix)\n",
    "# copyfile(src = \"../input/my_functions.py\", dst = \"../working/my_functions.py\")\n",
    "copyfile(src = \"/kaggle/input/utils-nmr/utils_nmr.py\", dst=\"../working/utils_nmr.py\")\n",
    "\n",
    "# import all our functions\n",
    "from utils_nmr import *"
   ]
  },
  {
   "cell_type": "code",
   "execution_count": 4,
   "metadata": {
    "execution": {
     "iopub.execute_input": "2023-02-22T03:55:29.656538Z",
     "iopub.status.busy": "2023-02-22T03:55:29.655441Z",
     "iopub.status.idle": "2023-02-22T03:55:29.663990Z",
     "shell.execute_reply": "2023-02-22T03:55:29.662463Z",
     "shell.execute_reply.started": "2023-02-22T03:55:29.656497Z"
    }
   },
   "outputs": [
    {
     "name": "stdout",
     "output_type": "stream",
     "text": [
      "\r"
     ]
    }
   ],
   "source": [
    "import utils_nmr"
   ]
  },
  {
   "cell_type": "code",
   "execution_count": 5,
   "metadata": {
    "execution": {
     "iopub.execute_input": "2023-02-22T03:55:29.666982Z",
     "iopub.status.busy": "2023-02-22T03:55:29.666570Z",
     "iopub.status.idle": "2023-02-22T03:55:29.678962Z",
     "shell.execute_reply": "2023-02-22T03:55:29.677660Z",
     "shell.execute_reply.started": "2023-02-22T03:55:29.666949Z"
    }
   },
   "outputs": [
    {
     "name": "stdout",
     "output_type": "stream",
     "text": [
      "\r"
     ]
    }
   ],
   "source": [
    "utils_path = '/kaggle/input/utils-nmr'\n",
    "import sys\n",
    "sys.path.insert(1, utils_path)\n",
    "\n",
    "import utils_nmr"
   ]
  },
  {
   "cell_type": "code",
   "execution_count": 6,
   "metadata": {
    "execution": {
     "iopub.execute_input": "2023-02-21T14:57:51.287142Z",
     "iopub.status.busy": "2023-02-21T14:57:51.286470Z",
     "iopub.status.idle": "2023-02-21T14:57:51.291972Z",
     "shell.execute_reply": "2023-02-21T14:57:51.290743Z",
     "shell.execute_reply.started": "2023-02-21T14:57:51.287112Z"
    }
   },
   "outputs": [
    {
     "name": "stdout",
     "output_type": "stream",
     "text": [
      "\r"
     ]
    }
   ],
   "source": [
    "# ? utils"
   ]
  },
  {
   "cell_type": "code",
   "execution_count": 7,
   "metadata": {
    "execution": {
     "iopub.execute_input": "2023-02-21T14:57:52.286856Z",
     "iopub.status.busy": "2023-02-21T14:57:52.286016Z",
     "iopub.status.idle": "2023-02-21T14:57:52.292882Z",
     "shell.execute_reply": "2023-02-21T14:57:52.291719Z",
     "shell.execute_reply.started": "2023-02-21T14:57:52.286810Z"
    }
   },
   "outputs": [
    {
     "name": "stdout",
     "output_type": "stream",
     "text": [
      "\r"
     ]
    }
   ],
   "source": [
    "# !pip uninstall utils -y"
   ]
  },
  {
   "cell_type": "code",
   "execution_count": 6,
   "metadata": {
    "execution": {
     "iopub.execute_input": "2023-02-22T03:18:37.843568Z",
     "iopub.status.busy": "2023-02-22T03:18:37.842458Z",
     "iopub.status.idle": "2023-02-22T03:18:37.851264Z",
     "shell.execute_reply": "2023-02-22T03:18:37.849519Z",
     "shell.execute_reply.started": "2023-02-22T03:18:37.843499Z"
    }
   },
   "outputs": [
    {
     "name": "stdout",
     "output_type": "stream",
     "text": [
      "\r"
     ]
    }
   ],
   "source": [
    "# utils_nmr.get_biggest_change_features"
   ]
  },
  {
   "cell_type": "code",
   "execution_count": 6,
   "metadata": {
    "execution": {
     "iopub.execute_input": "2023-02-22T03:55:29.681478Z",
     "iopub.status.busy": "2023-02-22T03:55:29.680918Z",
     "iopub.status.idle": "2023-02-22T03:55:31.082426Z",
     "shell.execute_reply": "2023-02-22T03:55:31.080782Z",
     "shell.execute_reply.started": "2023-02-22T03:55:29.681424Z"
    }
   },
   "outputs": [
    {
     "data": {
      "text/html": [
       "<style type='text/css'>\n",
       ".datatable table.frame { margin-bottom: 0; }\n",
       ".datatable table.frame thead { border-bottom: none; }\n",
       ".datatable table.frame tr.coltypes td {  color: #FFFFFF;  line-height: 6px;  padding: 0 0.5em;}\n",
       ".datatable .bool    { background: #DDDD99; }\n",
       ".datatable .object  { background: #565656; }\n",
       ".datatable .int     { background: #5D9E5D; }\n",
       ".datatable .float   { background: #4040CC; }\n",
       ".datatable .str     { background: #CC4040; }\n",
       ".datatable .time    { background: #40CC40; }\n",
       ".datatable .row_index {  background: var(--jp-border-color3);  border-right: 1px solid var(--jp-border-color0);  color: var(--jp-ui-font-color3);  font-size: 9px;}\n",
       ".datatable .frame tbody td { text-align: left; }\n",
       ".datatable .frame tr.coltypes .row_index {  background: var(--jp-border-color0);}\n",
       ".datatable th:nth-child(2) { padding-left: 12px; }\n",
       ".datatable .hellipsis {  color: var(--jp-cell-editor-border-color);}\n",
       ".datatable .vellipsis {  background: var(--jp-layout-color0);  color: var(--jp-cell-editor-border-color);}\n",
       ".datatable .na {  color: var(--jp-cell-editor-border-color);  font-size: 80%;}\n",
       ".datatable .sp {  opacity: 0.25;}\n",
       ".datatable .footer { font-size: 9px; }\n",
       ".datatable .frame_dimensions {  background: var(--jp-border-color3);  border-top: 1px solid var(--jp-border-color0);  color: var(--jp-ui-font-color3);  display: inline-block;  opacity: 0.6;  padding: 1px 10px 1px 5px;}\n",
       "</style>\n"
      ],
      "text/plain": [
       "<IPython.core.display.HTML object>"
      ]
     },
     "metadata": {},
     "output_type": "display_data"
    },
    {
     "name": "stdout",
     "output_type": "stream",
     "text": [
      "\r"
     ]
    }
   ],
   "source": [
    "from lightgbm import LGBMRegressor\n",
    "import gc\n",
    "import json\n",
    "from pathlib import Path\n",
    "\n",
    "from numerapi import NumerAPI\n",
    "from utils_nmr import (\n",
    "    save_model,\n",
    "    load_model,\n",
    "    neutralize,\n",
    "    get_biggest_change_features,\n",
    "    validation_metrics,\n",
    "    ERA_COL,\n",
    "    DATA_TYPE_COL,\n",
    "    TARGET_COL,\n",
    "    EXAMPLE_PREDS_COL\n",
    ")"
   ]
  },
  {
   "cell_type": "code",
   "execution_count": 7,
   "metadata": {
    "execution": {
     "iopub.execute_input": "2023-02-21T13:03:43.894615Z",
     "iopub.status.busy": "2023-02-21T13:03:43.894194Z",
     "iopub.status.idle": "2023-02-21T13:03:43.900660Z",
     "shell.execute_reply": "2023-02-21T13:03:43.899416Z",
     "shell.execute_reply.started": "2023-02-21T13:03:43.894584Z"
    }
   },
   "outputs": [
    {
     "name": "stdout",
     "output_type": "stream",
     "text": [
      "\r"
     ]
    }
   ],
   "source": [
    "# os.getcwd()"
   ]
  },
  {
   "cell_type": "code",
   "execution_count": 8,
   "metadata": {
    "execution": {
     "iopub.execute_input": "2023-02-22T03:35:25.358957Z",
     "iopub.status.busy": "2023-02-22T03:35:25.358540Z",
     "iopub.status.idle": "2023-02-22T03:35:25.367065Z",
     "shell.execute_reply": "2023-02-22T03:35:25.365855Z",
     "shell.execute_reply.started": "2023-02-22T03:35:25.358924Z"
    }
   },
   "outputs": [
    {
     "name": "stdout",
     "output_type": "stream",
     "text": [
      "\r"
     ]
    }
   ],
   "source": [
    "# #check to see if round is open\n",
    "# import time\n",
    "# napi = NumerAPI()\n",
    "# round_open = napi.check_round_open()\n",
    "\n",
    "# while not round_open:\n",
    "#     print(f\"Round currently closed. Waiting for 1 minute then retrying.\")\n",
    "#     time.sleep(60)\n",
    "#     round_open = napi.check_round_open()\n",
    "    \n",
    "# print(f\"Round is open. Proceeding with submission.\")"
   ]
  },
  {
   "cell_type": "code",
   "execution_count": 7,
   "metadata": {
    "execution": {
     "iopub.execute_input": "2023-02-22T03:55:50.167977Z",
     "iopub.status.busy": "2023-02-22T03:55:50.167506Z",
     "iopub.status.idle": "2023-02-22T03:55:52.604711Z",
     "shell.execute_reply": "2023-02-22T03:55:52.603581Z",
     "shell.execute_reply.started": "2023-02-22T03:55:50.167941Z"
    }
   },
   "outputs": [
    {
     "name": "stdout",
     "output_type": "stream",
     "text": [
      "Downloading dataset files...\n",
      "\r"
     ]
    }
   ],
   "source": [
    "napi = NumerAPI()\n",
    "\n",
    "current_round = napi.get_current_round()\n",
    "\n",
    "print('Downloading dataset files...')\n",
    "\n",
    "Path(\"./v4\").mkdir(parents=False, exist_ok=True)\n",
    "napi.download_dataset(\"v4/train.parquet\")\n",
    "napi.download_dataset(\"v4/validation.parquet\")\n",
    "napi.download_dataset(\"v4/live.parquet\", f\"v4/live_{current_round}.parquet\")\n",
    "napi.download_dataset(\"v4/validation_example_preds.parquet\")\n",
    "napi.download_dataset(\"v4/features.json\")"
   ]
  },
  {
   "cell_type": "code",
   "execution_count": 8,
   "metadata": {
    "execution": {
     "iopub.execute_input": "2023-02-22T03:56:09.260265Z",
     "iopub.status.busy": "2023-02-22T03:56:09.259817Z",
     "iopub.status.idle": "2023-02-22T03:56:09.289338Z",
     "shell.execute_reply": "2023-02-22T03:56:09.287939Z",
     "shell.execute_reply.started": "2023-02-22T03:56:09.260230Z"
    }
   },
   "outputs": [
    {
     "name": "stdout",
     "output_type": "stream",
     "text": [
      "Reading minimal training data\n",
      "\r"
     ]
    }
   ],
   "source": [
    "print('Reading minimal training data')\n",
    "# read the feature metadata and get a feature set (or all the features)\n",
    "with open(\"v4/features.json\", \"r\") as f:\n",
    "    feature_metadata = json.load(f)\n",
    "# features = list(feature_metadata[\"feature_stats\"].keys()) # get all the features\n",
    "# features = feature_metadata[\"feature_sets\"][\"small\"] # get the small feature set\n",
    "features = feature_metadata[\"feature_sets\"][\"medium\"] # get the medium feature set\n",
    "# read in just those features along with era and target columns\n",
    "read_columns = features + [ERA_COL, DATA_TYPE_COL, TARGET_COL]"
   ]
  },
  {
   "cell_type": "code",
   "execution_count": 9,
   "metadata": {
    "execution": {
     "iopub.execute_input": "2023-02-22T03:56:11.159310Z",
     "iopub.status.busy": "2023-02-22T03:56:11.158811Z",
     "iopub.status.idle": "2023-02-22T03:56:11.170151Z",
     "shell.execute_reply": "2023-02-22T03:56:11.168559Z",
     "shell.execute_reply.started": "2023-02-22T03:56:11.159268Z"
    }
   },
   "outputs": [
    {
     "data": {
      "text/plain": [
       "472"
      ]
     },
     "execution_count": 9,
     "metadata": {},
     "output_type": "execute_result"
    },
    {
     "name": "stdout",
     "output_type": "stream",
     "text": [
      "\r"
     ]
    }
   ],
   "source": [
    "feature_metadata[\"feature_sets\"].keys()\n",
    "len(features)"
   ]
  },
  {
   "cell_type": "code",
   "execution_count": 14,
   "metadata": {
    "execution": {
     "iopub.execute_input": "2023-02-21T15:02:28.319104Z",
     "iopub.status.busy": "2023-02-21T15:02:28.317667Z",
     "iopub.status.idle": "2023-02-21T15:02:28.324419Z",
     "shell.execute_reply": "2023-02-21T15:02:28.323348Z",
     "shell.execute_reply.started": "2023-02-21T15:02:28.319046Z"
    }
   },
   "outputs": [
    {
     "name": "stdout",
     "output_type": "stream",
     "text": [
      "\r"
     ]
    }
   ],
   "source": [
    "# read_columns[-10:]"
   ]
  },
  {
   "cell_type": "code",
   "execution_count": 10,
   "metadata": {
    "execution": {
     "iopub.execute_input": "2023-02-22T03:56:14.478701Z",
     "iopub.status.busy": "2023-02-22T03:56:14.478239Z",
     "iopub.status.idle": "2023-02-22T03:56:33.996009Z",
     "shell.execute_reply": "2023-02-22T03:56:33.994679Z",
     "shell.execute_reply.started": "2023-02-22T03:56:14.478666Z"
    }
   },
   "outputs": [
    {
     "name": "stdout",
     "output_type": "stream",
     "text": [
      "\r"
     ]
    }
   ],
   "source": [
    "# note: sometimes when trying to read the downloaded data you get an error about invalid magic parquet bytes...\n",
    "# if so, delete the file and rerun the napi.download_dataset to fix the corrupted file\n",
    "training_data = pd.read_parquet('v4/train.parquet',\n",
    "                                columns=read_columns)\n",
    "validation_data = pd.read_parquet('v4/validation.parquet',\n",
    "                                  columns=read_columns)\n",
    "live_data = pd.read_parquet(f'v4/live_{current_round}.parquet',\n",
    "                                  columns=read_columns)"
   ]
  },
  {
   "cell_type": "code",
   "execution_count": 15,
   "metadata": {
    "execution": {
     "iopub.execute_input": "2023-02-22T03:43:26.241720Z",
     "iopub.status.busy": "2023-02-22T03:43:26.240028Z",
     "iopub.status.idle": "2023-02-22T03:45:15.830477Z",
     "shell.execute_reply": "2023-02-22T03:45:15.829026Z",
     "shell.execute_reply.started": "2023-02-22T03:43:26.241645Z"
    }
   },
   "outputs": [
    {
     "name": "stdout",
     "output_type": "stream",
     "text": [
      "\r"
     ]
    }
   ],
   "source": [
    "# pare down the number of eras to every 4th era\n",
    "# every_4th_era = training_data[ERA_COL].unique()[::4]\n",
    "# training_data = training_data[training_data[ERA_COL].isin(every_4th_era)]\n",
    "\n",
    "# getting the per era correlation of each feature vs the target\n",
    "all_feature_corrs = training_data.groupby(ERA_COL).apply(\n",
    "    lambda era: era[features].corrwith(era[TARGET_COL])\n",
    ")"
   ]
  },
  {
   "cell_type": "code",
   "execution_count": 20,
   "metadata": {
    "execution": {
     "iopub.execute_input": "2023-02-22T03:52:26.660185Z",
     "iopub.status.busy": "2023-02-22T03:52:26.659445Z",
     "iopub.status.idle": "2023-02-22T03:53:19.327236Z",
     "shell.execute_reply": "2023-02-22T03:53:19.320940Z",
     "shell.execute_reply.started": "2023-02-22T03:52:26.660136Z"
    }
   },
   "outputs": [
    {
     "data": {
      "text/html": [
       "<div>\n",
       "<style scoped>\n",
       "    .dataframe tbody tr th:only-of-type {\n",
       "        vertical-align: middle;\n",
       "    }\n",
       "\n",
       "    .dataframe tbody tr th {\n",
       "        vertical-align: top;\n",
       "    }\n",
       "\n",
       "    .dataframe thead th {\n",
       "        text-align: right;\n",
       "    }\n",
       "</style>\n",
       "<table border=\"1\" class=\"dataframe\">\n",
       "  <thead>\n",
       "    <tr style=\"text-align: right;\">\n",
       "      <th></th>\n",
       "      <th>feature_abating_unadaptable_weakfish</th>\n",
       "      <th>feature_ablest_mauritanian_elding</th>\n",
       "      <th>feature_acclimatisable_unfeigned_maghreb</th>\n",
       "      <th>feature_accommodable_crinite_cleft</th>\n",
       "      <th>feature_acetose_periotic_coronation</th>\n",
       "      <th>feature_additive_untrustworthy_hierologist</th>\n",
       "      <th>feature_adsorbed_blizzardy_burlesque</th>\n",
       "      <th>feature_affettuoso_taxidermic_greg</th>\n",
       "      <th>feature_afoul_valvate_faery</th>\n",
       "      <th>feature_agaze_lancinate_zohar</th>\n",
       "      <th>...</th>\n",
       "      <th>feature_wariest_vulnerable_unmorality</th>\n",
       "      <th>feature_weightiest_protozoic_brawler</th>\n",
       "      <th>feature_wetter_unbaffled_loma</th>\n",
       "      <th>feature_wheezier_unjaundiced_game</th>\n",
       "      <th>feature_wistful_tussive_cycloserine</th>\n",
       "      <th>feature_witchy_orange_muley</th>\n",
       "      <th>feature_wombed_liberatory_malva</th>\n",
       "      <th>feature_wrathful_prolix_colotomy</th>\n",
       "      <th>feature_wrought_muckier_temporality</th>\n",
       "      <th>feature_yelled_hysteretic_eath</th>\n",
       "    </tr>\n",
       "    <tr>\n",
       "      <th>id</th>\n",
       "      <th></th>\n",
       "      <th></th>\n",
       "      <th></th>\n",
       "      <th></th>\n",
       "      <th></th>\n",
       "      <th></th>\n",
       "      <th></th>\n",
       "      <th></th>\n",
       "      <th></th>\n",
       "      <th></th>\n",
       "      <th></th>\n",
       "      <th></th>\n",
       "      <th></th>\n",
       "      <th></th>\n",
       "      <th></th>\n",
       "      <th></th>\n",
       "      <th></th>\n",
       "      <th></th>\n",
       "      <th></th>\n",
       "      <th></th>\n",
       "      <th></th>\n",
       "    </tr>\n",
       "  </thead>\n",
       "  <tbody>\n",
       "    <tr>\n",
       "      <th>n003bba8a98662e4</th>\n",
       "      <td>0.00</td>\n",
       "      <td>1.00</td>\n",
       "      <td>0.00</td>\n",
       "      <td>1.00</td>\n",
       "      <td>0.00</td>\n",
       "      <td>0.25</td>\n",
       "      <td>1.00</td>\n",
       "      <td>0.00</td>\n",
       "      <td>0.75</td>\n",
       "      <td>0.00</td>\n",
       "      <td>...</td>\n",
       "      <td>0.00</td>\n",
       "      <td>1.00</td>\n",
       "      <td>0.00</td>\n",
       "      <td>0.50</td>\n",
       "      <td>1.00</td>\n",
       "      <td>0.00</td>\n",
       "      <td>0.00</td>\n",
       "      <td>1.00</td>\n",
       "      <td>1.00</td>\n",
       "      <td>0.50</td>\n",
       "    </tr>\n",
       "    <tr>\n",
       "      <th>n003bee128c2fcfc</th>\n",
       "      <td>1.00</td>\n",
       "      <td>0.50</td>\n",
       "      <td>0.50</td>\n",
       "      <td>0.50</td>\n",
       "      <td>0.75</td>\n",
       "      <td>0.25</td>\n",
       "      <td>0.75</td>\n",
       "      <td>0.50</td>\n",
       "      <td>0.50</td>\n",
       "      <td>0.75</td>\n",
       "      <td>...</td>\n",
       "      <td>0.25</td>\n",
       "      <td>0.00</td>\n",
       "      <td>0.75</td>\n",
       "      <td>0.00</td>\n",
       "      <td>0.75</td>\n",
       "      <td>0.75</td>\n",
       "      <td>0.75</td>\n",
       "      <td>0.00</td>\n",
       "      <td>0.50</td>\n",
       "      <td>0.75</td>\n",
       "    </tr>\n",
       "    <tr>\n",
       "      <th>n0048ac83aff7194</th>\n",
       "      <td>1.00</td>\n",
       "      <td>1.00</td>\n",
       "      <td>0.50</td>\n",
       "      <td>0.00</td>\n",
       "      <td>0.00</td>\n",
       "      <td>1.00</td>\n",
       "      <td>0.25</td>\n",
       "      <td>0.75</td>\n",
       "      <td>0.50</td>\n",
       "      <td>0.50</td>\n",
       "      <td>...</td>\n",
       "      <td>0.25</td>\n",
       "      <td>0.50</td>\n",
       "      <td>0.75</td>\n",
       "      <td>0.25</td>\n",
       "      <td>0.00</td>\n",
       "      <td>0.00</td>\n",
       "      <td>0.25</td>\n",
       "      <td>0.00</td>\n",
       "      <td>0.75</td>\n",
       "      <td>0.25</td>\n",
       "    </tr>\n",
       "    <tr>\n",
       "      <th>n00691bec80d3e02</th>\n",
       "      <td>0.25</td>\n",
       "      <td>1.00</td>\n",
       "      <td>0.25</td>\n",
       "      <td>0.25</td>\n",
       "      <td>0.00</td>\n",
       "      <td>0.50</td>\n",
       "      <td>0.25</td>\n",
       "      <td>0.50</td>\n",
       "      <td>1.00</td>\n",
       "      <td>0.25</td>\n",
       "      <td>...</td>\n",
       "      <td>0.50</td>\n",
       "      <td>0.50</td>\n",
       "      <td>1.00</td>\n",
       "      <td>0.00</td>\n",
       "      <td>0.00</td>\n",
       "      <td>0.50</td>\n",
       "      <td>0.25</td>\n",
       "      <td>0.50</td>\n",
       "      <td>0.75</td>\n",
       "      <td>0.50</td>\n",
       "    </tr>\n",
       "    <tr>\n",
       "      <th>n00b8720a2fdc4f2</th>\n",
       "      <td>0.00</td>\n",
       "      <td>0.50</td>\n",
       "      <td>0.00</td>\n",
       "      <td>0.00</td>\n",
       "      <td>0.00</td>\n",
       "      <td>0.75</td>\n",
       "      <td>0.25</td>\n",
       "      <td>0.00</td>\n",
       "      <td>0.50</td>\n",
       "      <td>0.00</td>\n",
       "      <td>...</td>\n",
       "      <td>0.00</td>\n",
       "      <td>0.00</td>\n",
       "      <td>0.50</td>\n",
       "      <td>0.25</td>\n",
       "      <td>0.75</td>\n",
       "      <td>0.25</td>\n",
       "      <td>0.25</td>\n",
       "      <td>0.00</td>\n",
       "      <td>0.00</td>\n",
       "      <td>0.25</td>\n",
       "    </tr>\n",
       "    <tr>\n",
       "      <th>...</th>\n",
       "      <td>...</td>\n",
       "      <td>...</td>\n",
       "      <td>...</td>\n",
       "      <td>...</td>\n",
       "      <td>...</td>\n",
       "      <td>...</td>\n",
       "      <td>...</td>\n",
       "      <td>...</td>\n",
       "      <td>...</td>\n",
       "      <td>...</td>\n",
       "      <td>...</td>\n",
       "      <td>...</td>\n",
       "      <td>...</td>\n",
       "      <td>...</td>\n",
       "      <td>...</td>\n",
       "      <td>...</td>\n",
       "      <td>...</td>\n",
       "      <td>...</td>\n",
       "      <td>...</td>\n",
       "      <td>...</td>\n",
       "      <td>...</td>\n",
       "    </tr>\n",
       "    <tr>\n",
       "      <th>nffcc1dbdf2212e6</th>\n",
       "      <td>0.00</td>\n",
       "      <td>0.50</td>\n",
       "      <td>0.25</td>\n",
       "      <td>0.25</td>\n",
       "      <td>0.50</td>\n",
       "      <td>1.00</td>\n",
       "      <td>0.75</td>\n",
       "      <td>0.50</td>\n",
       "      <td>0.00</td>\n",
       "      <td>1.00</td>\n",
       "      <td>...</td>\n",
       "      <td>0.50</td>\n",
       "      <td>0.25</td>\n",
       "      <td>0.25</td>\n",
       "      <td>0.25</td>\n",
       "      <td>1.00</td>\n",
       "      <td>1.00</td>\n",
       "      <td>0.50</td>\n",
       "      <td>0.75</td>\n",
       "      <td>1.00</td>\n",
       "      <td>1.00</td>\n",
       "    </tr>\n",
       "    <tr>\n",
       "      <th>nffd71b7f6a128df</th>\n",
       "      <td>1.00</td>\n",
       "      <td>0.75</td>\n",
       "      <td>0.00</td>\n",
       "      <td>0.00</td>\n",
       "      <td>0.00</td>\n",
       "      <td>0.00</td>\n",
       "      <td>0.00</td>\n",
       "      <td>0.00</td>\n",
       "      <td>0.50</td>\n",
       "      <td>0.00</td>\n",
       "      <td>...</td>\n",
       "      <td>1.00</td>\n",
       "      <td>1.00</td>\n",
       "      <td>0.25</td>\n",
       "      <td>1.00</td>\n",
       "      <td>0.00</td>\n",
       "      <td>0.00</td>\n",
       "      <td>0.00</td>\n",
       "      <td>0.00</td>\n",
       "      <td>0.00</td>\n",
       "      <td>0.25</td>\n",
       "    </tr>\n",
       "    <tr>\n",
       "      <th>nffde3b371d67394</th>\n",
       "      <td>0.25</td>\n",
       "      <td>0.50</td>\n",
       "      <td>0.25</td>\n",
       "      <td>0.50</td>\n",
       "      <td>0.50</td>\n",
       "      <td>0.50</td>\n",
       "      <td>0.75</td>\n",
       "      <td>0.25</td>\n",
       "      <td>0.00</td>\n",
       "      <td>1.00</td>\n",
       "      <td>...</td>\n",
       "      <td>1.00</td>\n",
       "      <td>0.25</td>\n",
       "      <td>0.50</td>\n",
       "      <td>0.50</td>\n",
       "      <td>0.50</td>\n",
       "      <td>0.75</td>\n",
       "      <td>0.50</td>\n",
       "      <td>0.50</td>\n",
       "      <td>0.00</td>\n",
       "      <td>1.00</td>\n",
       "    </tr>\n",
       "    <tr>\n",
       "      <th>nfff1a1111b35e84</th>\n",
       "      <td>1.00</td>\n",
       "      <td>0.25</td>\n",
       "      <td>0.00</td>\n",
       "      <td>0.00</td>\n",
       "      <td>1.00</td>\n",
       "      <td>0.00</td>\n",
       "      <td>0.00</td>\n",
       "      <td>0.00</td>\n",
       "      <td>0.00</td>\n",
       "      <td>0.75</td>\n",
       "      <td>...</td>\n",
       "      <td>0.00</td>\n",
       "      <td>0.50</td>\n",
       "      <td>0.00</td>\n",
       "      <td>0.25</td>\n",
       "      <td>0.00</td>\n",
       "      <td>0.50</td>\n",
       "      <td>1.00</td>\n",
       "      <td>1.00</td>\n",
       "      <td>0.25</td>\n",
       "      <td>0.75</td>\n",
       "    </tr>\n",
       "    <tr>\n",
       "      <th>nfff2bd38e397265</th>\n",
       "      <td>0.25</td>\n",
       "      <td>0.25</td>\n",
       "      <td>0.50</td>\n",
       "      <td>0.00</td>\n",
       "      <td>0.50</td>\n",
       "      <td>1.00</td>\n",
       "      <td>0.00</td>\n",
       "      <td>0.50</td>\n",
       "      <td>0.00</td>\n",
       "      <td>1.00</td>\n",
       "      <td>...</td>\n",
       "      <td>0.00</td>\n",
       "      <td>1.00</td>\n",
       "      <td>0.50</td>\n",
       "      <td>1.00</td>\n",
       "      <td>0.75</td>\n",
       "      <td>0.00</td>\n",
       "      <td>0.50</td>\n",
       "      <td>0.00</td>\n",
       "      <td>0.25</td>\n",
       "      <td>0.25</td>\n",
       "    </tr>\n",
       "  </tbody>\n",
       "</table>\n",
       "<p>2420521 rows × 472 columns</p>\n",
       "</div>"
      ],
      "text/plain": [
       "                  feature_abating_unadaptable_weakfish  \\\n",
       "id                                                       \n",
       "n003bba8a98662e4                                  0.00   \n",
       "n003bee128c2fcfc                                  1.00   \n",
       "n0048ac83aff7194                                  1.00   \n",
       "n00691bec80d3e02                                  0.25   \n",
       "n00b8720a2fdc4f2                                  0.00   \n",
       "...                                                ...   \n",
       "nffcc1dbdf2212e6                                  0.00   \n",
       "nffd71b7f6a128df                                  1.00   \n",
       "nffde3b371d67394                                  0.25   \n",
       "nfff1a1111b35e84                                  1.00   \n",
       "nfff2bd38e397265                                  0.25   \n",
       "\n",
       "                  feature_ablest_mauritanian_elding  \\\n",
       "id                                                    \n",
       "n003bba8a98662e4                               1.00   \n",
       "n003bee128c2fcfc                               0.50   \n",
       "n0048ac83aff7194                               1.00   \n",
       "n00691bec80d3e02                               1.00   \n",
       "n00b8720a2fdc4f2                               0.50   \n",
       "...                                             ...   \n",
       "nffcc1dbdf2212e6                               0.50   \n",
       "nffd71b7f6a128df                               0.75   \n",
       "nffde3b371d67394                               0.50   \n",
       "nfff1a1111b35e84                               0.25   \n",
       "nfff2bd38e397265                               0.25   \n",
       "\n",
       "                  feature_acclimatisable_unfeigned_maghreb  \\\n",
       "id                                                           \n",
       "n003bba8a98662e4                                      0.00   \n",
       "n003bee128c2fcfc                                      0.50   \n",
       "n0048ac83aff7194                                      0.50   \n",
       "n00691bec80d3e02                                      0.25   \n",
       "n00b8720a2fdc4f2                                      0.00   \n",
       "...                                                    ...   \n",
       "nffcc1dbdf2212e6                                      0.25   \n",
       "nffd71b7f6a128df                                      0.00   \n",
       "nffde3b371d67394                                      0.25   \n",
       "nfff1a1111b35e84                                      0.00   \n",
       "nfff2bd38e397265                                      0.50   \n",
       "\n",
       "                  feature_accommodable_crinite_cleft  \\\n",
       "id                                                     \n",
       "n003bba8a98662e4                                1.00   \n",
       "n003bee128c2fcfc                                0.50   \n",
       "n0048ac83aff7194                                0.00   \n",
       "n00691bec80d3e02                                0.25   \n",
       "n00b8720a2fdc4f2                                0.00   \n",
       "...                                              ...   \n",
       "nffcc1dbdf2212e6                                0.25   \n",
       "nffd71b7f6a128df                                0.00   \n",
       "nffde3b371d67394                                0.50   \n",
       "nfff1a1111b35e84                                0.00   \n",
       "nfff2bd38e397265                                0.00   \n",
       "\n",
       "                  feature_acetose_periotic_coronation  \\\n",
       "id                                                      \n",
       "n003bba8a98662e4                                 0.00   \n",
       "n003bee128c2fcfc                                 0.75   \n",
       "n0048ac83aff7194                                 0.00   \n",
       "n00691bec80d3e02                                 0.00   \n",
       "n00b8720a2fdc4f2                                 0.00   \n",
       "...                                               ...   \n",
       "nffcc1dbdf2212e6                                 0.50   \n",
       "nffd71b7f6a128df                                 0.00   \n",
       "nffde3b371d67394                                 0.50   \n",
       "nfff1a1111b35e84                                 1.00   \n",
       "nfff2bd38e397265                                 0.50   \n",
       "\n",
       "                  feature_additive_untrustworthy_hierologist  \\\n",
       "id                                                             \n",
       "n003bba8a98662e4                                        0.25   \n",
       "n003bee128c2fcfc                                        0.25   \n",
       "n0048ac83aff7194                                        1.00   \n",
       "n00691bec80d3e02                                        0.50   \n",
       "n00b8720a2fdc4f2                                        0.75   \n",
       "...                                                      ...   \n",
       "nffcc1dbdf2212e6                                        1.00   \n",
       "nffd71b7f6a128df                                        0.00   \n",
       "nffde3b371d67394                                        0.50   \n",
       "nfff1a1111b35e84                                        0.00   \n",
       "nfff2bd38e397265                                        1.00   \n",
       "\n",
       "                  feature_adsorbed_blizzardy_burlesque  \\\n",
       "id                                                       \n",
       "n003bba8a98662e4                                  1.00   \n",
       "n003bee128c2fcfc                                  0.75   \n",
       "n0048ac83aff7194                                  0.25   \n",
       "n00691bec80d3e02                                  0.25   \n",
       "n00b8720a2fdc4f2                                  0.25   \n",
       "...                                                ...   \n",
       "nffcc1dbdf2212e6                                  0.75   \n",
       "nffd71b7f6a128df                                  0.00   \n",
       "nffde3b371d67394                                  0.75   \n",
       "nfff1a1111b35e84                                  0.00   \n",
       "nfff2bd38e397265                                  0.00   \n",
       "\n",
       "                  feature_affettuoso_taxidermic_greg  \\\n",
       "id                                                     \n",
       "n003bba8a98662e4                                0.00   \n",
       "n003bee128c2fcfc                                0.50   \n",
       "n0048ac83aff7194                                0.75   \n",
       "n00691bec80d3e02                                0.50   \n",
       "n00b8720a2fdc4f2                                0.00   \n",
       "...                                              ...   \n",
       "nffcc1dbdf2212e6                                0.50   \n",
       "nffd71b7f6a128df                                0.00   \n",
       "nffde3b371d67394                                0.25   \n",
       "nfff1a1111b35e84                                0.00   \n",
       "nfff2bd38e397265                                0.50   \n",
       "\n",
       "                  feature_afoul_valvate_faery  feature_agaze_lancinate_zohar  \\\n",
       "id                                                                             \n",
       "n003bba8a98662e4                         0.75                           0.00   \n",
       "n003bee128c2fcfc                         0.50                           0.75   \n",
       "n0048ac83aff7194                         0.50                           0.50   \n",
       "n00691bec80d3e02                         1.00                           0.25   \n",
       "n00b8720a2fdc4f2                         0.50                           0.00   \n",
       "...                                       ...                            ...   \n",
       "nffcc1dbdf2212e6                         0.00                           1.00   \n",
       "nffd71b7f6a128df                         0.50                           0.00   \n",
       "nffde3b371d67394                         0.00                           1.00   \n",
       "nfff1a1111b35e84                         0.00                           0.75   \n",
       "nfff2bd38e397265                         0.00                           1.00   \n",
       "\n",
       "                  ...  feature_wariest_vulnerable_unmorality  \\\n",
       "id                ...                                          \n",
       "n003bba8a98662e4  ...                                   0.00   \n",
       "n003bee128c2fcfc  ...                                   0.25   \n",
       "n0048ac83aff7194  ...                                   0.25   \n",
       "n00691bec80d3e02  ...                                   0.50   \n",
       "n00b8720a2fdc4f2  ...                                   0.00   \n",
       "...               ...                                    ...   \n",
       "nffcc1dbdf2212e6  ...                                   0.50   \n",
       "nffd71b7f6a128df  ...                                   1.00   \n",
       "nffde3b371d67394  ...                                   1.00   \n",
       "nfff1a1111b35e84  ...                                   0.00   \n",
       "nfff2bd38e397265  ...                                   0.00   \n",
       "\n",
       "                  feature_weightiest_protozoic_brawler  \\\n",
       "id                                                       \n",
       "n003bba8a98662e4                                  1.00   \n",
       "n003bee128c2fcfc                                  0.00   \n",
       "n0048ac83aff7194                                  0.50   \n",
       "n00691bec80d3e02                                  0.50   \n",
       "n00b8720a2fdc4f2                                  0.00   \n",
       "...                                                ...   \n",
       "nffcc1dbdf2212e6                                  0.25   \n",
       "nffd71b7f6a128df                                  1.00   \n",
       "nffde3b371d67394                                  0.25   \n",
       "nfff1a1111b35e84                                  0.50   \n",
       "nfff2bd38e397265                                  1.00   \n",
       "\n",
       "                  feature_wetter_unbaffled_loma  \\\n",
       "id                                                \n",
       "n003bba8a98662e4                           0.00   \n",
       "n003bee128c2fcfc                           0.75   \n",
       "n0048ac83aff7194                           0.75   \n",
       "n00691bec80d3e02                           1.00   \n",
       "n00b8720a2fdc4f2                           0.50   \n",
       "...                                         ...   \n",
       "nffcc1dbdf2212e6                           0.25   \n",
       "nffd71b7f6a128df                           0.25   \n",
       "nffde3b371d67394                           0.50   \n",
       "nfff1a1111b35e84                           0.00   \n",
       "nfff2bd38e397265                           0.50   \n",
       "\n",
       "                  feature_wheezier_unjaundiced_game  \\\n",
       "id                                                    \n",
       "n003bba8a98662e4                               0.50   \n",
       "n003bee128c2fcfc                               0.00   \n",
       "n0048ac83aff7194                               0.25   \n",
       "n00691bec80d3e02                               0.00   \n",
       "n00b8720a2fdc4f2                               0.25   \n",
       "...                                             ...   \n",
       "nffcc1dbdf2212e6                               0.25   \n",
       "nffd71b7f6a128df                               1.00   \n",
       "nffde3b371d67394                               0.50   \n",
       "nfff1a1111b35e84                               0.25   \n",
       "nfff2bd38e397265                               1.00   \n",
       "\n",
       "                  feature_wistful_tussive_cycloserine  \\\n",
       "id                                                      \n",
       "n003bba8a98662e4                                 1.00   \n",
       "n003bee128c2fcfc                                 0.75   \n",
       "n0048ac83aff7194                                 0.00   \n",
       "n00691bec80d3e02                                 0.00   \n",
       "n00b8720a2fdc4f2                                 0.75   \n",
       "...                                               ...   \n",
       "nffcc1dbdf2212e6                                 1.00   \n",
       "nffd71b7f6a128df                                 0.00   \n",
       "nffde3b371d67394                                 0.50   \n",
       "nfff1a1111b35e84                                 0.00   \n",
       "nfff2bd38e397265                                 0.75   \n",
       "\n",
       "                  feature_witchy_orange_muley  \\\n",
       "id                                              \n",
       "n003bba8a98662e4                         0.00   \n",
       "n003bee128c2fcfc                         0.75   \n",
       "n0048ac83aff7194                         0.00   \n",
       "n00691bec80d3e02                         0.50   \n",
       "n00b8720a2fdc4f2                         0.25   \n",
       "...                                       ...   \n",
       "nffcc1dbdf2212e6                         1.00   \n",
       "nffd71b7f6a128df                         0.00   \n",
       "nffde3b371d67394                         0.75   \n",
       "nfff1a1111b35e84                         0.50   \n",
       "nfff2bd38e397265                         0.00   \n",
       "\n",
       "                  feature_wombed_liberatory_malva  \\\n",
       "id                                                  \n",
       "n003bba8a98662e4                             0.00   \n",
       "n003bee128c2fcfc                             0.75   \n",
       "n0048ac83aff7194                             0.25   \n",
       "n00691bec80d3e02                             0.25   \n",
       "n00b8720a2fdc4f2                             0.25   \n",
       "...                                           ...   \n",
       "nffcc1dbdf2212e6                             0.50   \n",
       "nffd71b7f6a128df                             0.00   \n",
       "nffde3b371d67394                             0.50   \n",
       "nfff1a1111b35e84                             1.00   \n",
       "nfff2bd38e397265                             0.50   \n",
       "\n",
       "                  feature_wrathful_prolix_colotomy  \\\n",
       "id                                                   \n",
       "n003bba8a98662e4                              1.00   \n",
       "n003bee128c2fcfc                              0.00   \n",
       "n0048ac83aff7194                              0.00   \n",
       "n00691bec80d3e02                              0.50   \n",
       "n00b8720a2fdc4f2                              0.00   \n",
       "...                                            ...   \n",
       "nffcc1dbdf2212e6                              0.75   \n",
       "nffd71b7f6a128df                              0.00   \n",
       "nffde3b371d67394                              0.50   \n",
       "nfff1a1111b35e84                              1.00   \n",
       "nfff2bd38e397265                              0.00   \n",
       "\n",
       "                  feature_wrought_muckier_temporality  \\\n",
       "id                                                      \n",
       "n003bba8a98662e4                                 1.00   \n",
       "n003bee128c2fcfc                                 0.50   \n",
       "n0048ac83aff7194                                 0.75   \n",
       "n00691bec80d3e02                                 0.75   \n",
       "n00b8720a2fdc4f2                                 0.00   \n",
       "...                                               ...   \n",
       "nffcc1dbdf2212e6                                 1.00   \n",
       "nffd71b7f6a128df                                 0.00   \n",
       "nffde3b371d67394                                 0.00   \n",
       "nfff1a1111b35e84                                 0.25   \n",
       "nfff2bd38e397265                                 0.25   \n",
       "\n",
       "                  feature_yelled_hysteretic_eath  \n",
       "id                                                \n",
       "n003bba8a98662e4                            0.50  \n",
       "n003bee128c2fcfc                            0.75  \n",
       "n0048ac83aff7194                            0.25  \n",
       "n00691bec80d3e02                            0.50  \n",
       "n00b8720a2fdc4f2                            0.25  \n",
       "...                                          ...  \n",
       "nffcc1dbdf2212e6                            1.00  \n",
       "nffd71b7f6a128df                            0.25  \n",
       "nffde3b371d67394                            1.00  \n",
       "nfff1a1111b35e84                            0.75  \n",
       "nfff2bd38e397265                            0.25  \n",
       "\n",
       "[2420521 rows x 472 columns]"
      ]
     },
     "execution_count": 20,
     "metadata": {},
     "output_type": "execute_result"
    },
    {
     "name": "stdout",
     "output_type": "stream",
     "text": [
      "\r"
     ]
    }
   ],
   "source": [
    "training_data.groupby(ERA_COL).apply(lambda era: era[features])"
   ]
  },
  {
   "cell_type": "code",
   "execution_count": 16,
   "metadata": {
    "execution": {
     "iopub.execute_input": "2023-02-22T03:47:52.674094Z",
     "iopub.status.busy": "2023-02-22T03:47:52.673632Z",
     "iopub.status.idle": "2023-02-22T03:47:52.716808Z",
     "shell.execute_reply": "2023-02-22T03:47:52.715572Z",
     "shell.execute_reply.started": "2023-02-22T03:47:52.674062Z"
    }
   },
   "outputs": [
    {
     "data": {
      "text/html": [
       "<div>\n",
       "<style scoped>\n",
       "    .dataframe tbody tr th:only-of-type {\n",
       "        vertical-align: middle;\n",
       "    }\n",
       "\n",
       "    .dataframe tbody tr th {\n",
       "        vertical-align: top;\n",
       "    }\n",
       "\n",
       "    .dataframe thead th {\n",
       "        text-align: right;\n",
       "    }\n",
       "</style>\n",
       "<table border=\"1\" class=\"dataframe\">\n",
       "  <thead>\n",
       "    <tr style=\"text-align: right;\">\n",
       "      <th></th>\n",
       "      <th>feature_abating_unadaptable_weakfish</th>\n",
       "      <th>feature_ablest_mauritanian_elding</th>\n",
       "      <th>feature_acclimatisable_unfeigned_maghreb</th>\n",
       "      <th>feature_accommodable_crinite_cleft</th>\n",
       "      <th>feature_acetose_periotic_coronation</th>\n",
       "      <th>feature_additive_untrustworthy_hierologist</th>\n",
       "      <th>feature_adsorbed_blizzardy_burlesque</th>\n",
       "      <th>feature_affettuoso_taxidermic_greg</th>\n",
       "      <th>feature_afoul_valvate_faery</th>\n",
       "      <th>feature_agaze_lancinate_zohar</th>\n",
       "      <th>...</th>\n",
       "      <th>feature_wariest_vulnerable_unmorality</th>\n",
       "      <th>feature_weightiest_protozoic_brawler</th>\n",
       "      <th>feature_wetter_unbaffled_loma</th>\n",
       "      <th>feature_wheezier_unjaundiced_game</th>\n",
       "      <th>feature_wistful_tussive_cycloserine</th>\n",
       "      <th>feature_witchy_orange_muley</th>\n",
       "      <th>feature_wombed_liberatory_malva</th>\n",
       "      <th>feature_wrathful_prolix_colotomy</th>\n",
       "      <th>feature_wrought_muckier_temporality</th>\n",
       "      <th>feature_yelled_hysteretic_eath</th>\n",
       "    </tr>\n",
       "    <tr>\n",
       "      <th>era</th>\n",
       "      <th></th>\n",
       "      <th></th>\n",
       "      <th></th>\n",
       "      <th></th>\n",
       "      <th></th>\n",
       "      <th></th>\n",
       "      <th></th>\n",
       "      <th></th>\n",
       "      <th></th>\n",
       "      <th></th>\n",
       "      <th></th>\n",
       "      <th></th>\n",
       "      <th></th>\n",
       "      <th></th>\n",
       "      <th></th>\n",
       "      <th></th>\n",
       "      <th></th>\n",
       "      <th></th>\n",
       "      <th></th>\n",
       "      <th></th>\n",
       "      <th></th>\n",
       "    </tr>\n",
       "  </thead>\n",
       "  <tbody>\n",
       "    <tr>\n",
       "      <th>0001</th>\n",
       "      <td>0.041564</td>\n",
       "      <td>-0.007245</td>\n",
       "      <td>0.007626</td>\n",
       "      <td>-0.013727</td>\n",
       "      <td>0.006101</td>\n",
       "      <td>-0.012965</td>\n",
       "      <td>-0.018685</td>\n",
       "      <td>-0.003432</td>\n",
       "      <td>-2.287914e-03</td>\n",
       "      <td>-0.004957</td>\n",
       "      <td>...</td>\n",
       "      <td>-0.011440</td>\n",
       "      <td>-0.005720</td>\n",
       "      <td>-0.038895</td>\n",
       "      <td>0.004957</td>\n",
       "      <td>-1.906595e-03</td>\n",
       "      <td>-0.023642</td>\n",
       "      <td>0.004576</td>\n",
       "      <td>-0.009533</td>\n",
       "      <td>-0.048428</td>\n",
       "      <td>0.019066</td>\n",
       "    </tr>\n",
       "    <tr>\n",
       "      <th>0002</th>\n",
       "      <td>0.009795</td>\n",
       "      <td>0.011194</td>\n",
       "      <td>0.018540</td>\n",
       "      <td>-0.017840</td>\n",
       "      <td>0.034631</td>\n",
       "      <td>0.022388</td>\n",
       "      <td>-0.005947</td>\n",
       "      <td>0.004897</td>\n",
       "      <td>2.448668e-03</td>\n",
       "      <td>0.003848</td>\n",
       "      <td>...</td>\n",
       "      <td>-0.013992</td>\n",
       "      <td>-0.005947</td>\n",
       "      <td>-0.009445</td>\n",
       "      <td>-0.004897</td>\n",
       "      <td>-3.847906e-03</td>\n",
       "      <td>-0.016091</td>\n",
       "      <td>0.032182</td>\n",
       "      <td>0.006297</td>\n",
       "      <td>0.002099</td>\n",
       "      <td>0.027635</td>\n",
       "    </tr>\n",
       "    <tr>\n",
       "      <th>0003</th>\n",
       "      <td>0.034562</td>\n",
       "      <td>-0.006777</td>\n",
       "      <td>0.021686</td>\n",
       "      <td>-0.028463</td>\n",
       "      <td>0.018298</td>\n",
       "      <td>-0.004066</td>\n",
       "      <td>-0.007793</td>\n",
       "      <td>0.008471</td>\n",
       "      <td>3.388459e-03</td>\n",
       "      <td>-0.006438</td>\n",
       "      <td>...</td>\n",
       "      <td>-0.019653</td>\n",
       "      <td>-0.000339</td>\n",
       "      <td>-0.004066</td>\n",
       "      <td>-0.004405</td>\n",
       "      <td>1.694229e-02</td>\n",
       "      <td>-0.013893</td>\n",
       "      <td>0.011860</td>\n",
       "      <td>0.013554</td>\n",
       "      <td>0.030496</td>\n",
       "      <td>0.019992</td>\n",
       "    </tr>\n",
       "    <tr>\n",
       "      <th>0004</th>\n",
       "      <td>0.006586</td>\n",
       "      <td>-0.006257</td>\n",
       "      <td>0.026345</td>\n",
       "      <td>-0.035566</td>\n",
       "      <td>-0.000659</td>\n",
       "      <td>0.008233</td>\n",
       "      <td>0.006586</td>\n",
       "      <td>0.020088</td>\n",
       "      <td>-2.305229e-03</td>\n",
       "      <td>-0.034249</td>\n",
       "      <td>...</td>\n",
       "      <td>0.022064</td>\n",
       "      <td>0.005269</td>\n",
       "      <td>-0.012185</td>\n",
       "      <td>0.000329</td>\n",
       "      <td>1.547797e-02</td>\n",
       "      <td>-0.012185</td>\n",
       "      <td>-0.005269</td>\n",
       "      <td>0.008233</td>\n",
       "      <td>0.042811</td>\n",
       "      <td>0.018771</td>\n",
       "    </tr>\n",
       "    <tr>\n",
       "      <th>0005</th>\n",
       "      <td>0.014454</td>\n",
       "      <td>0.005256</td>\n",
       "      <td>0.036463</td>\n",
       "      <td>-0.050589</td>\n",
       "      <td>-0.003614</td>\n",
       "      <td>0.038105</td>\n",
       "      <td>0.040733</td>\n",
       "      <td>0.031535</td>\n",
       "      <td>-2.730650e-07</td>\n",
       "      <td>-0.059130</td>\n",
       "      <td>...</td>\n",
       "      <td>0.019053</td>\n",
       "      <td>0.004599</td>\n",
       "      <td>-0.009527</td>\n",
       "      <td>-0.007227</td>\n",
       "      <td>2.168054e-02</td>\n",
       "      <td>-0.011498</td>\n",
       "      <td>-0.025623</td>\n",
       "      <td>0.030550</td>\n",
       "      <td>0.065371</td>\n",
       "      <td>0.043690</td>\n",
       "    </tr>\n",
       "    <tr>\n",
       "      <th>...</th>\n",
       "      <td>...</td>\n",
       "      <td>...</td>\n",
       "      <td>...</td>\n",
       "      <td>...</td>\n",
       "      <td>...</td>\n",
       "      <td>...</td>\n",
       "      <td>...</td>\n",
       "      <td>...</td>\n",
       "      <td>...</td>\n",
       "      <td>...</td>\n",
       "      <td>...</td>\n",
       "      <td>...</td>\n",
       "      <td>...</td>\n",
       "      <td>...</td>\n",
       "      <td>...</td>\n",
       "      <td>...</td>\n",
       "      <td>...</td>\n",
       "      <td>...</td>\n",
       "      <td>...</td>\n",
       "      <td>...</td>\n",
       "      <td>...</td>\n",
       "    </tr>\n",
       "    <tr>\n",
       "      <th>0570</th>\n",
       "      <td>0.003621</td>\n",
       "      <td>-0.019751</td>\n",
       "      <td>0.013497</td>\n",
       "      <td>-0.024031</td>\n",
       "      <td>0.027817</td>\n",
       "      <td>-0.000165</td>\n",
       "      <td>-0.010369</td>\n",
       "      <td>0.013332</td>\n",
       "      <td>-2.518301e-02</td>\n",
       "      <td>0.000823</td>\n",
       "      <td>...</td>\n",
       "      <td>0.010205</td>\n",
       "      <td>0.011522</td>\n",
       "      <td>-0.018599</td>\n",
       "      <td>0.013826</td>\n",
       "      <td>-1.135704e-02</td>\n",
       "      <td>-0.006419</td>\n",
       "      <td>0.022056</td>\n",
       "      <td>-0.011686</td>\n",
       "      <td>0.014155</td>\n",
       "      <td>0.010863</td>\n",
       "    </tr>\n",
       "    <tr>\n",
       "      <th>0571</th>\n",
       "      <td>-0.002301</td>\n",
       "      <td>-0.028593</td>\n",
       "      <td>0.003122</td>\n",
       "      <td>-0.022184</td>\n",
       "      <td>0.007888</td>\n",
       "      <td>0.008545</td>\n",
       "      <td>0.005587</td>\n",
       "      <td>0.004108</td>\n",
       "      <td>-4.075270e-02</td>\n",
       "      <td>-0.003287</td>\n",
       "      <td>...</td>\n",
       "      <td>-0.000164</td>\n",
       "      <td>0.032701</td>\n",
       "      <td>-0.023992</td>\n",
       "      <td>0.002958</td>\n",
       "      <td>1.068115e-02</td>\n",
       "      <td>-0.015118</td>\n",
       "      <td>0.011010</td>\n",
       "      <td>0.011338</td>\n",
       "      <td>-0.004765</td>\n",
       "      <td>0.000493</td>\n",
       "    </tr>\n",
       "    <tr>\n",
       "      <th>0572</th>\n",
       "      <td>-0.014021</td>\n",
       "      <td>-0.032166</td>\n",
       "      <td>0.004454</td>\n",
       "      <td>-0.021444</td>\n",
       "      <td>-0.007423</td>\n",
       "      <td>-0.009732</td>\n",
       "      <td>-0.000330</td>\n",
       "      <td>0.002309</td>\n",
       "      <td>-5.938396e-03</td>\n",
       "      <td>0.009897</td>\n",
       "      <td>...</td>\n",
       "      <td>-0.000330</td>\n",
       "      <td>0.021774</td>\n",
       "      <td>-0.022929</td>\n",
       "      <td>-0.010557</td>\n",
       "      <td>1.347891e-17</td>\n",
       "      <td>-0.030847</td>\n",
       "      <td>-0.001485</td>\n",
       "      <td>0.005279</td>\n",
       "      <td>-0.002639</td>\n",
       "      <td>0.005773</td>\n",
       "    </tr>\n",
       "    <tr>\n",
       "      <th>0573</th>\n",
       "      <td>-0.001814</td>\n",
       "      <td>-0.034458</td>\n",
       "      <td>0.001154</td>\n",
       "      <td>0.000495</td>\n",
       "      <td>-0.008243</td>\n",
       "      <td>-0.016322</td>\n",
       "      <td>0.009233</td>\n",
       "      <td>0.001814</td>\n",
       "      <td>-1.797077e-02</td>\n",
       "      <td>-0.002968</td>\n",
       "      <td>...</td>\n",
       "      <td>0.004616</td>\n",
       "      <td>0.037920</td>\n",
       "      <td>-0.024236</td>\n",
       "      <td>0.001978</td>\n",
       "      <td>9.562426e-03</td>\n",
       "      <td>-0.009398</td>\n",
       "      <td>-0.027863</td>\n",
       "      <td>0.019125</td>\n",
       "      <td>-0.014838</td>\n",
       "      <td>0.031985</td>\n",
       "    </tr>\n",
       "    <tr>\n",
       "      <th>0574</th>\n",
       "      <td>0.013820</td>\n",
       "      <td>-0.029613</td>\n",
       "      <td>-0.007074</td>\n",
       "      <td>-0.001152</td>\n",
       "      <td>-0.019413</td>\n",
       "      <td>0.002961</td>\n",
       "      <td>-0.001481</td>\n",
       "      <td>-0.004771</td>\n",
       "      <td>-6.909679e-03</td>\n",
       "      <td>0.027310</td>\n",
       "      <td>...</td>\n",
       "      <td>-0.008555</td>\n",
       "      <td>0.033397</td>\n",
       "      <td>-0.031258</td>\n",
       "      <td>-0.001316</td>\n",
       "      <td>1.283246e-02</td>\n",
       "      <td>-0.004771</td>\n",
       "      <td>-0.025007</td>\n",
       "      <td>0.026158</td>\n",
       "      <td>0.003784</td>\n",
       "      <td>0.051001</td>\n",
       "    </tr>\n",
       "  </tbody>\n",
       "</table>\n",
       "<p>574 rows × 472 columns</p>\n",
       "</div>"
      ],
      "text/plain": [
       "      feature_abating_unadaptable_weakfish  feature_ablest_mauritanian_elding  \\\n",
       "era                                                                             \n",
       "0001                              0.041564                          -0.007245   \n",
       "0002                              0.009795                           0.011194   \n",
       "0003                              0.034562                          -0.006777   \n",
       "0004                              0.006586                          -0.006257   \n",
       "0005                              0.014454                           0.005256   \n",
       "...                                    ...                                ...   \n",
       "0570                              0.003621                          -0.019751   \n",
       "0571                             -0.002301                          -0.028593   \n",
       "0572                             -0.014021                          -0.032166   \n",
       "0573                             -0.001814                          -0.034458   \n",
       "0574                              0.013820                          -0.029613   \n",
       "\n",
       "      feature_acclimatisable_unfeigned_maghreb  \\\n",
       "era                                              \n",
       "0001                                  0.007626   \n",
       "0002                                  0.018540   \n",
       "0003                                  0.021686   \n",
       "0004                                  0.026345   \n",
       "0005                                  0.036463   \n",
       "...                                        ...   \n",
       "0570                                  0.013497   \n",
       "0571                                  0.003122   \n",
       "0572                                  0.004454   \n",
       "0573                                  0.001154   \n",
       "0574                                 -0.007074   \n",
       "\n",
       "      feature_accommodable_crinite_cleft  feature_acetose_periotic_coronation  \\\n",
       "era                                                                             \n",
       "0001                           -0.013727                             0.006101   \n",
       "0002                           -0.017840                             0.034631   \n",
       "0003                           -0.028463                             0.018298   \n",
       "0004                           -0.035566                            -0.000659   \n",
       "0005                           -0.050589                            -0.003614   \n",
       "...                                  ...                                  ...   \n",
       "0570                           -0.024031                             0.027817   \n",
       "0571                           -0.022184                             0.007888   \n",
       "0572                           -0.021444                            -0.007423   \n",
       "0573                            0.000495                            -0.008243   \n",
       "0574                           -0.001152                            -0.019413   \n",
       "\n",
       "      feature_additive_untrustworthy_hierologist  \\\n",
       "era                                                \n",
       "0001                                   -0.012965   \n",
       "0002                                    0.022388   \n",
       "0003                                   -0.004066   \n",
       "0004                                    0.008233   \n",
       "0005                                    0.038105   \n",
       "...                                          ...   \n",
       "0570                                   -0.000165   \n",
       "0571                                    0.008545   \n",
       "0572                                   -0.009732   \n",
       "0573                                   -0.016322   \n",
       "0574                                    0.002961   \n",
       "\n",
       "      feature_adsorbed_blizzardy_burlesque  \\\n",
       "era                                          \n",
       "0001                             -0.018685   \n",
       "0002                             -0.005947   \n",
       "0003                             -0.007793   \n",
       "0004                              0.006586   \n",
       "0005                              0.040733   \n",
       "...                                    ...   \n",
       "0570                             -0.010369   \n",
       "0571                              0.005587   \n",
       "0572                             -0.000330   \n",
       "0573                              0.009233   \n",
       "0574                             -0.001481   \n",
       "\n",
       "      feature_affettuoso_taxidermic_greg  feature_afoul_valvate_faery  \\\n",
       "era                                                                     \n",
       "0001                           -0.003432                -2.287914e-03   \n",
       "0002                            0.004897                 2.448668e-03   \n",
       "0003                            0.008471                 3.388459e-03   \n",
       "0004                            0.020088                -2.305229e-03   \n",
       "0005                            0.031535                -2.730650e-07   \n",
       "...                                  ...                          ...   \n",
       "0570                            0.013332                -2.518301e-02   \n",
       "0571                            0.004108                -4.075270e-02   \n",
       "0572                            0.002309                -5.938396e-03   \n",
       "0573                            0.001814                -1.797077e-02   \n",
       "0574                           -0.004771                -6.909679e-03   \n",
       "\n",
       "      feature_agaze_lancinate_zohar  ...  \\\n",
       "era                                  ...   \n",
       "0001                      -0.004957  ...   \n",
       "0002                       0.003848  ...   \n",
       "0003                      -0.006438  ...   \n",
       "0004                      -0.034249  ...   \n",
       "0005                      -0.059130  ...   \n",
       "...                             ...  ...   \n",
       "0570                       0.000823  ...   \n",
       "0571                      -0.003287  ...   \n",
       "0572                       0.009897  ...   \n",
       "0573                      -0.002968  ...   \n",
       "0574                       0.027310  ...   \n",
       "\n",
       "      feature_wariest_vulnerable_unmorality  \\\n",
       "era                                           \n",
       "0001                              -0.011440   \n",
       "0002                              -0.013992   \n",
       "0003                              -0.019653   \n",
       "0004                               0.022064   \n",
       "0005                               0.019053   \n",
       "...                                     ...   \n",
       "0570                               0.010205   \n",
       "0571                              -0.000164   \n",
       "0572                              -0.000330   \n",
       "0573                               0.004616   \n",
       "0574                              -0.008555   \n",
       "\n",
       "      feature_weightiest_protozoic_brawler  feature_wetter_unbaffled_loma  \\\n",
       "era                                                                         \n",
       "0001                             -0.005720                      -0.038895   \n",
       "0002                             -0.005947                      -0.009445   \n",
       "0003                             -0.000339                      -0.004066   \n",
       "0004                              0.005269                      -0.012185   \n",
       "0005                              0.004599                      -0.009527   \n",
       "...                                    ...                            ...   \n",
       "0570                              0.011522                      -0.018599   \n",
       "0571                              0.032701                      -0.023992   \n",
       "0572                              0.021774                      -0.022929   \n",
       "0573                              0.037920                      -0.024236   \n",
       "0574                              0.033397                      -0.031258   \n",
       "\n",
       "      feature_wheezier_unjaundiced_game  feature_wistful_tussive_cycloserine  \\\n",
       "era                                                                            \n",
       "0001                           0.004957                        -1.906595e-03   \n",
       "0002                          -0.004897                        -3.847906e-03   \n",
       "0003                          -0.004405                         1.694229e-02   \n",
       "0004                           0.000329                         1.547797e-02   \n",
       "0005                          -0.007227                         2.168054e-02   \n",
       "...                                 ...                                  ...   \n",
       "0570                           0.013826                        -1.135704e-02   \n",
       "0571                           0.002958                         1.068115e-02   \n",
       "0572                          -0.010557                         1.347891e-17   \n",
       "0573                           0.001978                         9.562426e-03   \n",
       "0574                          -0.001316                         1.283246e-02   \n",
       "\n",
       "      feature_witchy_orange_muley  feature_wombed_liberatory_malva  \\\n",
       "era                                                                  \n",
       "0001                    -0.023642                         0.004576   \n",
       "0002                    -0.016091                         0.032182   \n",
       "0003                    -0.013893                         0.011860   \n",
       "0004                    -0.012185                        -0.005269   \n",
       "0005                    -0.011498                        -0.025623   \n",
       "...                           ...                              ...   \n",
       "0570                    -0.006419                         0.022056   \n",
       "0571                    -0.015118                         0.011010   \n",
       "0572                    -0.030847                        -0.001485   \n",
       "0573                    -0.009398                        -0.027863   \n",
       "0574                    -0.004771                        -0.025007   \n",
       "\n",
       "      feature_wrathful_prolix_colotomy  feature_wrought_muckier_temporality  \\\n",
       "era                                                                           \n",
       "0001                         -0.009533                            -0.048428   \n",
       "0002                          0.006297                             0.002099   \n",
       "0003                          0.013554                             0.030496   \n",
       "0004                          0.008233                             0.042811   \n",
       "0005                          0.030550                             0.065371   \n",
       "...                                ...                                  ...   \n",
       "0570                         -0.011686                             0.014155   \n",
       "0571                          0.011338                            -0.004765   \n",
       "0572                          0.005279                            -0.002639   \n",
       "0573                          0.019125                            -0.014838   \n",
       "0574                          0.026158                             0.003784   \n",
       "\n",
       "      feature_yelled_hysteretic_eath  \n",
       "era                                   \n",
       "0001                        0.019066  \n",
       "0002                        0.027635  \n",
       "0003                        0.019992  \n",
       "0004                        0.018771  \n",
       "0005                        0.043690  \n",
       "...                              ...  \n",
       "0570                        0.010863  \n",
       "0571                        0.000493  \n",
       "0572                        0.005773  \n",
       "0573                        0.031985  \n",
       "0574                        0.051001  \n",
       "\n",
       "[574 rows x 472 columns]"
      ]
     },
     "execution_count": 16,
     "metadata": {},
     "output_type": "execute_result"
    },
    {
     "name": "stdout",
     "output_type": "stream",
     "text": [
      "\r"
     ]
    }
   ],
   "source": [
    "all_feature_corrs"
   ]
  },
  {
   "cell_type": "code",
   "execution_count": 17,
   "metadata": {
    "execution": {
     "iopub.execute_input": "2023-02-21T15:05:13.867392Z",
     "iopub.status.busy": "2023-02-21T15:05:13.866849Z",
     "iopub.status.idle": "2023-02-21T15:05:13.883791Z",
     "shell.execute_reply": "2023-02-21T15:05:13.882535Z",
     "shell.execute_reply.started": "2023-02-21T15:05:13.867349Z"
    }
   },
   "outputs": [
    {
     "name": "stdout",
     "output_type": "stream",
     "text": [
      "\r"
     ]
    }
   ],
   "source": [
    "# find the riskiest features by comparing their correlation vs\n",
    "# the target in each half of training data; we'll use these later\n",
    "riskiest_features = get_biggest_change_features(all_feature_corrs, 50)"
   ]
  },
  {
   "cell_type": "code",
   "execution_count": 18,
   "metadata": {
    "execution": {
     "iopub.execute_input": "2023-02-21T15:05:17.705804Z",
     "iopub.status.busy": "2023-02-21T15:05:17.705423Z",
     "iopub.status.idle": "2023-02-21T15:05:17.918593Z",
     "shell.execute_reply": "2023-02-21T15:05:17.917277Z",
     "shell.execute_reply.started": "2023-02-21T15:05:17.705778Z"
    }
   },
   "outputs": [
    {
     "data": {
      "text/plain": [
       "6806"
      ]
     },
     "execution_count": 18,
     "metadata": {},
     "output_type": "execute_result"
    },
    {
     "name": "stdout",
     "output_type": "stream",
     "text": [
      "\r"
     ]
    }
   ],
   "source": [
    "# \"garbage collection\" (gc) gets rid of unused data and frees up memory\n",
    "gc.collect()"
   ]
  },
  {
   "cell_type": "code",
   "execution_count": 19,
   "metadata": {
    "execution": {
     "iopub.execute_input": "2023-02-21T15:05:20.346443Z",
     "iopub.status.busy": "2023-02-21T15:05:20.346014Z",
     "iopub.status.idle": "2023-02-21T15:21:26.138437Z",
     "shell.execute_reply": "2023-02-21T15:21:26.137418Z",
     "shell.execute_reply.started": "2023-02-21T15:05:20.346409Z"
    }
   },
   "outputs": [
    {
     "name": "stdout",
     "output_type": "stream",
     "text": [
      "Checking for existing model 'model_target'\n",
      "model not found, creating new one\n",
      "saving new model: model_target\n"
     ]
    },
    {
     "data": {
      "text/plain": [
       "48"
      ]
     },
     "execution_count": 19,
     "metadata": {},
     "output_type": "execute_result"
    },
    {
     "name": "stdout",
     "output_type": "stream",
     "text": [
      "\r"
     ]
    }
   ],
   "source": [
    "model_name = f\"model_target\"\n",
    "print(f\"Checking for existing model '{model_name}'\")\n",
    "model = load_model(model_name)\n",
    "if not model:\n",
    "    print(f\"model not found, creating new one\")\n",
    "    params = {\"n_estimators\": 2000,\n",
    "              \"learning_rate\": 0.01,\n",
    "              \"max_depth\": 5,\n",
    "              \"num_leaves\": 2 ** 5,\n",
    "              \"colsample_bytree\": 0.1}\n",
    "\n",
    "    model = LGBMRegressor(**params)\n",
    "\n",
    "    # train on all of train and save the model so we don't have to train next time\n",
    "    model.fit(training_data.filter(like='feature_', axis='columns'),\n",
    "              training_data[TARGET_COL])\n",
    "    print(f\"saving new model: {model_name}\")\n",
    "    save_model(model, model_name)\n",
    "\n",
    "gc.collect()"
   ]
  },
  {
   "cell_type": "code",
   "execution_count": 20,
   "metadata": {
    "execution": {
     "iopub.execute_input": "2023-02-21T15:22:10.885013Z",
     "iopub.status.busy": "2023-02-21T15:22:10.884593Z",
     "iopub.status.idle": "2023-02-21T15:22:10.942997Z",
     "shell.execute_reply": "2023-02-21T15:22:10.942026Z",
     "shell.execute_reply.started": "2023-02-21T15:22:10.884986Z"
    }
   },
   "outputs": [
    {
     "name": "stdout",
     "output_type": "stream",
     "text": [
      "No nans in the features this week!\n",
      "\r"
     ]
    }
   ],
   "source": [
    "nans_per_col = live_data[live_data[\"data_type\"] == \"live\"][features].isna().sum()\n",
    "\n",
    "# check for nans and fill nans\n",
    "if nans_per_col.any():\n",
    "    total_rows = len(live_data[live_data[\"data_type\"] == \"live\"])\n",
    "    print(f\"Number of nans per column this week: {nans_per_col[nans_per_col > 0]}\")\n",
    "    print(f\"out of {total_rows} total rows\")\n",
    "    print(f\"filling nans with 0.5\")\n",
    "    live_data.loc[:, features] = live_data.loc[:, features].fillna(0.5)\n",
    "\n",
    "else:\n",
    "    print(\"No nans in the features this week!\")"
   ]
  },
  {
   "cell_type": "code",
   "execution_count": 25,
   "metadata": {
    "execution": {
     "iopub.execute_input": "2023-02-21T15:25:56.367888Z",
     "iopub.status.busy": "2023-02-21T15:25:56.367464Z",
     "iopub.status.idle": "2023-02-21T15:28:35.650459Z",
     "shell.execute_reply": "2023-02-21T15:28:35.648764Z",
     "shell.execute_reply.started": "2023-02-21T15:25:56.367861Z"
    }
   },
   "outputs": [
    {
     "data": {
      "text/plain": [
       "43"
      ]
     },
     "execution_count": 25,
     "metadata": {},
     "output_type": "execute_result"
    },
    {
     "name": "stdout",
     "output_type": "stream",
     "text": [
      "\r"
     ]
    }
   ],
   "source": [
    "# double check the feature that the model expects vs what is available to prevent our\n",
    "# pipeline from failing if Numerai adds more data and we don't have time to retrain!\n",
    "model_expected_features = model.booster_.feature_name()\n",
    "if set(model_expected_features) != set(features):\n",
    "    print(f\"New features are available! Might want to retrain model {model_name}.\")\n",
    "validation_data.loc[:, f\"preds_{model_name}\"] = model.predict(\n",
    "    validation_data.loc[:, model_expected_features])\n",
    "# live_data.loc[:, f\"preds_{model_name}\"] = model.predict(\n",
    "#     live_data.loc[:, model_expected_features])\n",
    "\n",
    "gc.collect()"
   ]
  },
  {
   "cell_type": "code",
   "execution_count": null,
   "metadata": {},
   "outputs": [],
   "source": [
    "# neutralize our predictions to the riskiest features\n",
    "# validation_data[f\"preds_{model_name}_neutral_riskiest_50\"] = neutralize(\n",
    "#     df=validation_data,\n",
    "#     columns=[f\"preds_{model_name}\"],\n",
    "#     neutralizers=riskiest_features,\n",
    "#     proportion=1.0,\n",
    "#     normalize=True,\n",
    "#     era_col=ERA_COL\n",
    "# )"
   ]
  },
  {
   "cell_type": "code",
   "execution_count": 26,
   "metadata": {
    "execution": {
     "iopub.execute_input": "2023-02-21T15:28:59.276761Z",
     "iopub.status.busy": "2023-02-21T15:28:59.276369Z",
     "iopub.status.idle": "2023-02-21T15:31:16.639197Z",
     "shell.execute_reply": "2023-02-21T15:31:16.637008Z",
     "shell.execute_reply.started": "2023-02-21T15:28:59.276730Z"
    }
   },
   "outputs": [
    {
     "name": "stdout",
     "output_type": "stream",
     "text": [
      "\r"
     ]
    }
   ],
   "source": [
    "# neutralize our predictions to the riskiest features\n",
    "validation_data[f\"preds_{model_name}_neutral_riskiest_50\"] = neutralize(\n",
    "    df=validation_data,\n",
    "    columns=[f\"preds_{model_name}\"],\n",
    "    neutralizers=riskiest_features,\n",
    "    proportion=1.0,\n",
    "    normalize=True,\n",
    "    era_col=ERA_COL\n",
    ")"
   ]
  },
  {
   "cell_type": "code",
   "execution_count": 22,
   "metadata": {
    "execution": {
     "iopub.execute_input": "2023-02-21T15:22:22.037061Z",
     "iopub.status.busy": "2023-02-21T15:22:22.035933Z",
     "iopub.status.idle": "2023-02-21T15:22:22.125589Z",
     "shell.execute_reply": "2023-02-21T15:22:22.123719Z",
     "shell.execute_reply.started": "2023-02-21T15:22:22.037026Z"
    }
   },
   "outputs": [
    {
     "name": "stdout",
     "output_type": "stream",
     "text": [
      "\r"
     ]
    }
   ],
   "source": [
    "# live_data[f\"preds_{model_name}_neutral_riskiest_50\"] = neutralize(\n",
    "#     df=live_data,\n",
    "#     columns=[f\"preds_{model_name}\"],\n",
    "#     neutralizers=riskiest_features,\n",
    "#     proportion=1.0,\n",
    "#     normalize=True,\n",
    "#     era_col=ERA_COL\n",
    "# )"
   ]
  },
  {
   "cell_type": "code",
   "execution_count": 23,
   "metadata": {
    "execution": {
     "iopub.execute_input": "2023-02-21T15:22:28.677098Z",
     "iopub.status.busy": "2023-02-21T15:22:28.676626Z",
     "iopub.status.idle": "2023-02-21T15:22:28.684819Z",
     "shell.execute_reply": "2023-02-21T15:22:28.682611Z",
     "shell.execute_reply.started": "2023-02-21T15:22:28.677064Z"
    }
   },
   "outputs": [
    {
     "name": "stdout",
     "output_type": "stream",
     "text": [
      "\r"
     ]
    }
   ],
   "source": [
    "model_to_submit = f\"preds_{model_name}_neutral_riskiest_50\""
   ]
  },
  {
   "cell_type": "code",
   "execution_count": 27,
   "metadata": {
    "execution": {
     "iopub.execute_input": "2023-02-21T15:31:24.539440Z",
     "iopub.status.busy": "2023-02-21T15:31:24.538231Z",
     "iopub.status.idle": "2023-02-21T15:31:28.682710Z",
     "shell.execute_reply": "2023-02-21T15:31:28.681173Z",
     "shell.execute_reply.started": "2023-02-21T15:31:24.539399Z"
    }
   },
   "outputs": [
    {
     "name": "stdout",
     "output_type": "stream",
     "text": [
      "\r"
     ]
    }
   ],
   "source": [
    "# # rename best model to \"prediction\" and rank from 0 to 1 to meet upload requirements\n",
    "validation_data[\"prediction\"] = validation_data[model_to_submit].rank(pct=True)\n",
    "# live_data[\"prediction\"] = live_data[model_to_submit].rank(pct=True)\n",
    "validation_data[\"prediction\"].to_csv(f\"validation_predictions_{current_round}.csv\")\n",
    "# live_data[\"prediction\"].to_csv(f\"live_predictions_{current_round}.csv\")"
   ]
  },
  {
   "cell_type": "code",
   "execution_count": 28,
   "metadata": {
    "execution": {
     "iopub.execute_input": "2023-02-21T15:31:32.446342Z",
     "iopub.status.busy": "2023-02-21T15:31:32.445940Z",
     "iopub.status.idle": "2023-02-21T15:31:34.142051Z",
     "shell.execute_reply": "2023-02-21T15:31:34.141242Z",
     "shell.execute_reply.started": "2023-02-21T15:31:32.446314Z"
    }
   },
   "outputs": [
    {
     "name": "stdout",
     "output_type": "stream",
     "text": [
      "\r"
     ]
    }
   ],
   "source": [
    "validation_preds = pd.read_parquet('v4/validation_example_preds.parquet')\n",
    "validation_data[EXAMPLE_PREDS_COL] = validation_preds[\"prediction\"]"
   ]
  },
  {
   "cell_type": "code",
   "execution_count": 29,
   "metadata": {
    "execution": {
     "iopub.execute_input": "2023-02-21T15:31:39.307170Z",
     "iopub.status.busy": "2023-02-21T15:31:39.306800Z",
     "iopub.status.idle": "2023-02-21T15:36:37.214983Z",
     "shell.execute_reply": "2023-02-21T15:36:37.213799Z",
     "shell.execute_reply.started": "2023-02-21T15:31:39.307142Z"
    }
   },
   "outputs": [
    {
     "name": "stdout",
     "output_type": "stream",
     "text": [
      "|                                        |      mean |   sharpe |\n",
      "|:---------------------------------------|----------:|---------:|\n",
      "| preds_model_target_neutral_riskiest_50 | 0.0262633 | 0.973428 |\n",
      "| preds_model_target                     | 0.0269323 | 0.858913 |\n",
      "\r"
     ]
    }
   ],
   "source": [
    "# get some stats about each of our models to compare...\n",
    "# fast_mode=True so that we skip some of the stats that are slower to calculate\n",
    "validation_stats = validation_metrics(validation_data, [model_to_submit, f\"preds_{model_name}\"], example_col=EXAMPLE_PREDS_COL, fast_mode=True, target_col=TARGET_COL)\n",
    "print(validation_stats[[\"mean\", \"sharpe\"]].to_markdown())"
   ]
  },
  {
   "cell_type": "code",
   "execution_count": 91,
   "metadata": {
    "execution": {
     "iopub.execute_input": "2023-02-21T09:10:37.357371Z",
     "iopub.status.busy": "2023-02-21T09:10:37.356915Z",
     "iopub.status.idle": "2023-02-21T09:10:37.368035Z",
     "shell.execute_reply": "2023-02-21T09:10:37.366547Z",
     "shell.execute_reply.started": "2023-02-21T09:10:37.357338Z"
    }
   },
   "outputs": [
    {
     "name": "stdout",
     "output_type": "stream",
     "text": [
      "\n",
      "Done! Next steps:\n",
      "    1. Go to numer.ai/tournament (make sure you have an account)\n",
      "    2. Submit validation_predictions_424.csv to the diagnostics tool\n",
      "    3. Submit tournament_predictions_424.csv to the \"Upload Predictions\" button\n",
      "\n",
      "\r"
     ]
    }
   ],
   "source": [
    "print(f'''\n",
    "Done! Next steps:\n",
    "    1. Go to numer.ai/tournament (make sure you have an account)\n",
    "    2. Submit validation_predictions_{current_round}.csv to the diagnostics tool\n",
    "    3. Submit tournament_predictions_{current_round}.csv to the \"Upload Predictions\" button\n",
    "''')"
   ]
  },
  {
   "cell_type": "code",
   "execution_count": null,
   "metadata": {},
   "outputs": [],
   "source": []
  }
 ],
 "metadata": {
  "kernelspec": {
   "display_name": "Python 3 (ipykernel)",
   "language": "python",
   "name": "python3"
  },
  "language_info": {
   "codemirror_mode": {
    "name": "ipython",
    "version": 3
   },
   "file_extension": ".py",
   "mimetype": "text/x-python",
   "name": "python",
   "nbconvert_exporter": "python",
   "pygments_lexer": "ipython3",
   "version": "3.9.12"
  }
 },
 "nbformat": 4,
 "nbformat_minor": 4
}
